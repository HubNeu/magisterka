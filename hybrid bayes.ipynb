{
 "cells": [
  {
   "cell_type": "code",
   "execution_count": 53,
   "id": "c628d317",
   "metadata": {},
   "outputs": [
    {
     "name": "stdout",
     "output_type": "stream",
     "text": [
      "The nb_black extension is already loaded. To reload it, use:\n",
      "  %reload_ext nb_black\n",
      "Libs imported. Python version is: 3.9.7\n"
     ]
    },
    {
     "data": {
      "application/javascript": [
       "\n",
       "            setTimeout(function() {\n",
       "                var nbb_cell_id = 53;\n",
       "                var nbb_unformatted_code = \"## SKLEARN\\nfrom sklearn import preprocessing\\nfrom sklearn.model_selection import train_test_split\\nfrom sklearn.naive_bayes import CategoricalNB, MultinomialNB\\nfrom sklearn import metrics\\n\\nimport numpy as np\\n\\nnp.set_printoptions(suppress=True)\\nimport pandas as pd\\nfrom platform import python_version\\n\\nimport random\\n\\n# works, sort of only. Possible additional commas that shouldn't be there.\\n%load_ext nb_black\\n\\nprint(\\\"Libs imported. Python version is: \\\" + python_version())\";\n",
       "                var nbb_formatted_code = \"## SKLEARN\\nfrom sklearn import preprocessing\\nfrom sklearn.model_selection import train_test_split\\nfrom sklearn.naive_bayes import CategoricalNB, MultinomialNB\\nfrom sklearn import metrics\\n\\nimport numpy as np\\n\\nnp.set_printoptions(suppress=True)\\nimport pandas as pd\\nfrom platform import python_version\\n\\nimport random\\n\\n# works, sort of only. Possible additional commas that shouldn't be there.\\n%load_ext nb_black\\n\\nprint(\\\"Libs imported. Python version is: \\\" + python_version())\";\n",
       "                var nbb_cells = Jupyter.notebook.get_cells();\n",
       "                for (var i = 0; i < nbb_cells.length; ++i) {\n",
       "                    if (nbb_cells[i].input_prompt_number == nbb_cell_id) {\n",
       "                        if (nbb_cells[i].get_text() == nbb_unformatted_code) {\n",
       "                             nbb_cells[i].set_text(nbb_formatted_code);\n",
       "                        }\n",
       "                        break;\n",
       "                    }\n",
       "                }\n",
       "            }, 500);\n",
       "            "
      ],
      "text/plain": [
       "<IPython.core.display.Javascript object>"
      ]
     },
     "metadata": {},
     "output_type": "display_data"
    }
   ],
   "source": [
    "## SKLEARN\n",
    "from sklearn import preprocessing\n",
    "from sklearn.model_selection import train_test_split\n",
    "from sklearn.naive_bayes import CategoricalNB, MultinomialNB\n",
    "from sklearn import metrics\n",
    "\n",
    "import numpy as np\n",
    "\n",
    "np.set_printoptions(suppress=True)\n",
    "import pandas as pd\n",
    "from platform import python_version\n",
    "\n",
    "import random\n",
    "\n",
    "# works, sort of only. Possible additional commas that shouldn't be there.\n",
    "%load_ext nb_black\n",
    "\n",
    "print(\"Libs imported. Python version is: \" + python_version())"
   ]
  },
  {
   "cell_type": "code",
   "execution_count": 54,
   "id": "a810b851",
   "metadata": {},
   "outputs": [
    {
     "data": {
      "application/javascript": [
       "\n",
       "            setTimeout(function() {\n",
       "                var nbb_cell_id = 54;\n",
       "                var nbb_unformatted_code = \"# utility functions\\n\\n\\ndef load_dataset(x):\\n    return {\\n        \\\"a\\\": load_car(),\\n        \\\"b\\\": load_mushroom(),\\n        \\\"c\\\": load_audiology(),\\n        \\\"d\\\": load_wine(),\\n    }[x]\\n\\n\\n\\\"\\\"\\\"\\nhttps://archive.ics.uci.edu/ml/datasets/car+evaluation\\n0-5 -> data\\n6 -> labels\\n\\\"\\\"\\\"\\n\\n\\ndef load_car():\\n    df_car = pd.read_csv(\\n        \\\"https://archive.ics.uci.edu/ml/machine-learning-databases/car/car.data\\\",\\n        header=None,\\n    )\\n    X = df_car.loc[:, :5].values\\n    y = df_car.loc[:, 6].values\\n    return (X, y)\\n\\n\\n\\\"\\\"\\\"\\nhttps://archive.ics.uci.edu/ml/datasets/mushroom\\n1-22 -> data\\n0 -> labels\\n\\\"\\\"\\\"\\n\\n\\ndef load_mushroom():\\n    df_mushroom = pd.read_csv(\\n        \\\"https://archive.ics.uci.edu/ml/machine-learning-databases/mushroom/agaricus-lepiota.data\\\",\\n        header=None,\\n    )\\n    X = df_mushroom.loc[:, 1:].values\\n    y = df_mushroom.loc[:, 0].values\\n    return (X, y)\\n\\n\\n\\\"\\\"\\\"\\nhttps://archive.ics.uci.edu/ml/datasets/Audiology+%28Standardized%29\\n0:length-2 -> data\\nlength-1 unique id (p1-p200)\\nlength -> labels\\n\\\"\\\"\\\"\\n\\n\\ndef load_audiology():\\n    df_audiology = pd.read_csv(\\n        \\\"https://archive.ics.uci.edu/ml/machine-learning-databases/audiology/audiology.standardized.data\\\",\\n        header=None,\\n    )\\n    length = len(df_audiology.columns)\\n    X = df_audiology.loc[:, : length - 3].values\\n    y = df_audiology.loc[:, length - 1].values\\n    return (X, y)\\n\\n\\n\\\"\\\"\\\"\\nhttps://www.alldatascience.com/classification/wine-dataset-analysis-with-python/\\n1:length -> data\\n0 -> labels\\n\\\"\\\"\\\"\\n\\n\\ndef load_wine():\\n    df_wine = pd.read_csv(\\n        \\\"https://archive.ics.uci.edu/ml/machine-learning-databases/wine/wine.data\\\",\\n        header=None,\\n    )\\n    length = len(df_wine.columns)\\n    X = df_wine.loc[:, 1:].values\\n    y = df_wine.loc[:, 0].values\\n    return (X, y)\";\n",
       "                var nbb_formatted_code = \"# utility functions\\n\\n\\ndef load_dataset(x):\\n    return {\\n        \\\"a\\\": load_car(),\\n        \\\"b\\\": load_mushroom(),\\n        \\\"c\\\": load_audiology(),\\n        \\\"d\\\": load_wine(),\\n    }[x]\\n\\n\\n\\\"\\\"\\\"\\nhttps://archive.ics.uci.edu/ml/datasets/car+evaluation\\n0-5 -> data\\n6 -> labels\\n\\\"\\\"\\\"\\n\\n\\ndef load_car():\\n    df_car = pd.read_csv(\\n        \\\"https://archive.ics.uci.edu/ml/machine-learning-databases/car/car.data\\\",\\n        header=None,\\n    )\\n    X = df_car.loc[:, :5].values\\n    y = df_car.loc[:, 6].values\\n    return (X, y)\\n\\n\\n\\\"\\\"\\\"\\nhttps://archive.ics.uci.edu/ml/datasets/mushroom\\n1-22 -> data\\n0 -> labels\\n\\\"\\\"\\\"\\n\\n\\ndef load_mushroom():\\n    df_mushroom = pd.read_csv(\\n        \\\"https://archive.ics.uci.edu/ml/machine-learning-databases/mushroom/agaricus-lepiota.data\\\",\\n        header=None,\\n    )\\n    X = df_mushroom.loc[:, 1:].values\\n    y = df_mushroom.loc[:, 0].values\\n    return (X, y)\\n\\n\\n\\\"\\\"\\\"\\nhttps://archive.ics.uci.edu/ml/datasets/Audiology+%28Standardized%29\\n0:length-2 -> data\\nlength-1 unique id (p1-p200)\\nlength -> labels\\n\\\"\\\"\\\"\\n\\n\\ndef load_audiology():\\n    df_audiology = pd.read_csv(\\n        \\\"https://archive.ics.uci.edu/ml/machine-learning-databases/audiology/audiology.standardized.data\\\",\\n        header=None,\\n    )\\n    length = len(df_audiology.columns)\\n    X = df_audiology.loc[:, : length - 3].values\\n    y = df_audiology.loc[:, length - 1].values\\n    return (X, y)\\n\\n\\n\\\"\\\"\\\"\\nhttps://www.alldatascience.com/classification/wine-dataset-analysis-with-python/\\n1:length -> data\\n0 -> labels\\n\\\"\\\"\\\"\\n\\n\\ndef load_wine():\\n    df_wine = pd.read_csv(\\n        \\\"https://archive.ics.uci.edu/ml/machine-learning-databases/wine/wine.data\\\",\\n        header=None,\\n    )\\n    length = len(df_wine.columns)\\n    X = df_wine.loc[:, 1:].values\\n    y = df_wine.loc[:, 0].values\\n    return (X, y)\";\n",
       "                var nbb_cells = Jupyter.notebook.get_cells();\n",
       "                for (var i = 0; i < nbb_cells.length; ++i) {\n",
       "                    if (nbb_cells[i].input_prompt_number == nbb_cell_id) {\n",
       "                        if (nbb_cells[i].get_text() == nbb_unformatted_code) {\n",
       "                             nbb_cells[i].set_text(nbb_formatted_code);\n",
       "                        }\n",
       "                        break;\n",
       "                    }\n",
       "                }\n",
       "            }, 500);\n",
       "            "
      ],
      "text/plain": [
       "<IPython.core.display.Javascript object>"
      ]
     },
     "metadata": {},
     "output_type": "display_data"
    }
   ],
   "source": [
    "# utility functions\n",
    "\n",
    "\n",
    "def load_dataset(x):\n",
    "    return {\n",
    "        \"a\": load_car(),\n",
    "        \"b\": load_mushroom(),\n",
    "        \"c\": load_audiology(),\n",
    "        \"d\": load_wine(),\n",
    "    }[x]\n",
    "\n",
    "\n",
    "\"\"\"\n",
    "https://archive.ics.uci.edu/ml/datasets/car+evaluation\n",
    "0-5 -> data\n",
    "6 -> labels\n",
    "\"\"\"\n",
    "\n",
    "\n",
    "def load_car():\n",
    "    df_car = pd.read_csv(\n",
    "        \"https://archive.ics.uci.edu/ml/machine-learning-databases/car/car.data\",\n",
    "        header=None,\n",
    "    )\n",
    "    X = df_car.loc[:, :5].values\n",
    "    y = df_car.loc[:, 6].values\n",
    "    return (X, y)\n",
    "\n",
    "\n",
    "\"\"\"\n",
    "https://archive.ics.uci.edu/ml/datasets/mushroom\n",
    "1-22 -> data\n",
    "0 -> labels\n",
    "\"\"\"\n",
    "\n",
    "\n",
    "def load_mushroom():\n",
    "    df_mushroom = pd.read_csv(\n",
    "        \"https://archive.ics.uci.edu/ml/machine-learning-databases/mushroom/agaricus-lepiota.data\",\n",
    "        header=None,\n",
    "    )\n",
    "    X = df_mushroom.loc[:, 1:].values\n",
    "    y = df_mushroom.loc[:, 0].values\n",
    "    return (X, y)\n",
    "\n",
    "\n",
    "\"\"\"\n",
    "https://archive.ics.uci.edu/ml/datasets/Audiology+%28Standardized%29\n",
    "0:length-2 -> data\n",
    "length-1 unique id (p1-p200)\n",
    "length -> labels\n",
    "\"\"\"\n",
    "\n",
    "\n",
    "def load_audiology():\n",
    "    df_audiology = pd.read_csv(\n",
    "        \"https://archive.ics.uci.edu/ml/machine-learning-databases/audiology/audiology.standardized.data\",\n",
    "        header=None,\n",
    "    )\n",
    "    length = len(df_audiology.columns)\n",
    "    X = df_audiology.loc[:, : length - 3].values\n",
    "    y = df_audiology.loc[:, length - 1].values\n",
    "    return (X, y)\n",
    "\n",
    "\n",
    "\"\"\"\n",
    "https://www.alldatascience.com/classification/wine-dataset-analysis-with-python/\n",
    "1:length -> data\n",
    "0 -> labels\n",
    "\"\"\"\n",
    "\n",
    "\n",
    "def load_wine():\n",
    "    df_wine = pd.read_csv(\n",
    "        \"https://archive.ics.uci.edu/ml/machine-learning-databases/wine/wine.data\",\n",
    "        header=None,\n",
    "    )\n",
    "    length = len(df_wine.columns)\n",
    "    X = df_wine.loc[:, 1:].values\n",
    "    y = df_wine.loc[:, 0].values\n",
    "    return (X, y)"
   ]
  },
  {
   "cell_type": "code",
   "execution_count": 55,
   "id": "0e3ea44b",
   "metadata": {},
   "outputs": [
    {
     "name": "stdout",
     "output_type": "stream",
     "text": [
      "Sizes of X and y respectively:\n",
      "(1728, 6)\n",
      "(1728,)\n"
     ]
    },
    {
     "data": {
      "application/javascript": [
       "\n",
       "            setTimeout(function() {\n",
       "                var nbb_cell_id = 55;\n",
       "                var nbb_unformatted_code = \"dataset = load_dataset(\\\"a\\\")  # CAR\\n# dataset = load_dataset(\\\"b\\\")  # MUSHROOM\\n# dataset = load_dataset(\\\"c\\\")  # AUDIOLOGY\\n# dataset = load_dataset(\\\"d\\\") # WINE\\n\\n# Extract to X and y\\nX_cat = dataset[0]\\ny_cat = dataset[1]\\n\\nprint(\\\"Sizes of X and y respectively:\\\")\\nprint(np.shape(X_cat))\\nprint(np.shape(y_cat))\";\n",
       "                var nbb_formatted_code = \"dataset = load_dataset(\\\"a\\\")  # CAR\\n# dataset = load_dataset(\\\"b\\\")  # MUSHROOM\\n# dataset = load_dataset(\\\"c\\\")  # AUDIOLOGY\\n# dataset = load_dataset(\\\"d\\\") # WINE\\n\\n# Extract to X and y\\nX_cat = dataset[0]\\ny_cat = dataset[1]\\n\\nprint(\\\"Sizes of X and y respectively:\\\")\\nprint(np.shape(X_cat))\\nprint(np.shape(y_cat))\";\n",
       "                var nbb_cells = Jupyter.notebook.get_cells();\n",
       "                for (var i = 0; i < nbb_cells.length; ++i) {\n",
       "                    if (nbb_cells[i].input_prompt_number == nbb_cell_id) {\n",
       "                        if (nbb_cells[i].get_text() == nbb_unformatted_code) {\n",
       "                             nbb_cells[i].set_text(nbb_formatted_code);\n",
       "                        }\n",
       "                        break;\n",
       "                    }\n",
       "                }\n",
       "            }, 500);\n",
       "            "
      ],
      "text/plain": [
       "<IPython.core.display.Javascript object>"
      ]
     },
     "metadata": {},
     "output_type": "display_data"
    }
   ],
   "source": [
    "dataset = load_dataset(\"a\")  # CAR\n",
    "# dataset = load_dataset(\"b\")  # MUSHROOM\n",
    "# dataset = load_dataset(\"c\")  # AUDIOLOGY\n",
    "# dataset = load_dataset(\"d\") # WINE\n",
    "\n",
    "# Extract to X and y\n",
    "X_cat = dataset[0]\n",
    "y_cat = dataset[1]\n",
    "\n",
    "print(\"Sizes of X and y respectively:\")\n",
    "print(np.shape(X_cat))\n",
    "print(np.shape(y_cat))"
   ]
  },
  {
   "cell_type": "code",
   "execution_count": 56,
   "id": "3b9b40f1",
   "metadata": {
    "scrolled": true
   },
   "outputs": [
    {
     "name": "stdout",
     "output_type": "stream",
     "text": [
      "Encode-decode equivalence check: True\n"
     ]
    },
    {
     "data": {
      "application/javascript": [
       "\n",
       "            setTimeout(function() {\n",
       "                var nbb_cell_id = 56;\n",
       "                var nbb_unformatted_code = \"\\\"\\\"\\\"\\nOld code when I tried to encode data as well not just labels\\ndef encode_array(arg_array, shape_to_resize):\\n    result = []\\n    for column in arg_array.transpose():\\n        result.append(encoder.fit_transform(column))\\n    result = np.reshape(result, shape_to_resize)\\n    return result.transpose()\\n\\n\\ndef decode_array(arg_array):\\n    shape_to_resize = np.shape(arg_array.transpose())\\n    result = []\\n    for column in arg_array.transpose():\\n        result.append(encoder.inverse_transform(column))\\n    result = np.reshape(result, shape_to_resize)\\n    return result.transpose()\\n\\n\\n# Make a full dictionary of categories per column and encode\\nencoder = preprocessing.LabelEncoder()\\nX = []\\n\\n# Encoding the data\\nX = encode_array(X_cat, np.shape(X_cat.transpose()))\\n\\n# Encoding the labels\\ny = encoder.fit_transform(y_cat)\\n# Check if decoding works\\ndecoded = decode_array(X)\\nprint(decoded)\\nprint(\\\"meanwhile X_cat: \\\")\\nprint(X_cat)\\nprint(np.array_equiv(decoded, X_cat))\\nprint(np.array_equiv(encoder.inverse_transform(y), y_cat))\\n\\\"\\\"\\\"\\nencoder = preprocessing.LabelEncoder()\\n# Encoding the labels\\ny = encoder.fit_transform(y_cat)\\n# Check if decoding works\\nprint(\\n    \\\"Encode-decode equivalence check: \\\"\\n    + str(np.array_equiv(encoder.inverse_transform(y), y_cat))\\n)\";\n",
       "                var nbb_formatted_code = \"\\\"\\\"\\\"\\nOld code when I tried to encode data as well not just labels\\ndef encode_array(arg_array, shape_to_resize):\\n    result = []\\n    for column in arg_array.transpose():\\n        result.append(encoder.fit_transform(column))\\n    result = np.reshape(result, shape_to_resize)\\n    return result.transpose()\\n\\n\\ndef decode_array(arg_array):\\n    shape_to_resize = np.shape(arg_array.transpose())\\n    result = []\\n    for column in arg_array.transpose():\\n        result.append(encoder.inverse_transform(column))\\n    result = np.reshape(result, shape_to_resize)\\n    return result.transpose()\\n\\n\\n# Make a full dictionary of categories per column and encode\\nencoder = preprocessing.LabelEncoder()\\nX = []\\n\\n# Encoding the data\\nX = encode_array(X_cat, np.shape(X_cat.transpose()))\\n\\n# Encoding the labels\\ny = encoder.fit_transform(y_cat)\\n# Check if decoding works\\ndecoded = decode_array(X)\\nprint(decoded)\\nprint(\\\"meanwhile X_cat: \\\")\\nprint(X_cat)\\nprint(np.array_equiv(decoded, X_cat))\\nprint(np.array_equiv(encoder.inverse_transform(y), y_cat))\\n\\\"\\\"\\\"\\nencoder = preprocessing.LabelEncoder()\\n# Encoding the labels\\ny = encoder.fit_transform(y_cat)\\n# Check if decoding works\\nprint(\\n    \\\"Encode-decode equivalence check: \\\"\\n    + str(np.array_equiv(encoder.inverse_transform(y), y_cat))\\n)\";\n",
       "                var nbb_cells = Jupyter.notebook.get_cells();\n",
       "                for (var i = 0; i < nbb_cells.length; ++i) {\n",
       "                    if (nbb_cells[i].input_prompt_number == nbb_cell_id) {\n",
       "                        if (nbb_cells[i].get_text() == nbb_unformatted_code) {\n",
       "                             nbb_cells[i].set_text(nbb_formatted_code);\n",
       "                        }\n",
       "                        break;\n",
       "                    }\n",
       "                }\n",
       "            }, 500);\n",
       "            "
      ],
      "text/plain": [
       "<IPython.core.display.Javascript object>"
      ]
     },
     "metadata": {},
     "output_type": "display_data"
    }
   ],
   "source": [
    "\"\"\"\n",
    "Old code when I tried to encode data as well not just labels\n",
    "def encode_array(arg_array, shape_to_resize):\n",
    "    result = []\n",
    "    for column in arg_array.transpose():\n",
    "        result.append(encoder.fit_transform(column))\n",
    "    result = np.reshape(result, shape_to_resize)\n",
    "    return result.transpose()\n",
    "\n",
    "\n",
    "def decode_array(arg_array):\n",
    "    shape_to_resize = np.shape(arg_array.transpose())\n",
    "    result = []\n",
    "    for column in arg_array.transpose():\n",
    "        result.append(encoder.inverse_transform(column))\n",
    "    result = np.reshape(result, shape_to_resize)\n",
    "    return result.transpose()\n",
    "\n",
    "\n",
    "# Make a full dictionary of categories per column and encode\n",
    "encoder = preprocessing.LabelEncoder()\n",
    "X = []\n",
    "\n",
    "# Encoding the data\n",
    "X = encode_array(X_cat, np.shape(X_cat.transpose()))\n",
    "\n",
    "# Encoding the labels\n",
    "y = encoder.fit_transform(y_cat)\n",
    "# Check if decoding works\n",
    "decoded = decode_array(X)\n",
    "print(decoded)\n",
    "print(\"meanwhile X_cat: \")\n",
    "print(X_cat)\n",
    "print(np.array_equiv(decoded, X_cat))\n",
    "print(np.array_equiv(encoder.inverse_transform(y), y_cat))\n",
    "\"\"\"\n",
    "encoder = preprocessing.LabelEncoder()\n",
    "# Encoding the labels\n",
    "y = encoder.fit_transform(y_cat)\n",
    "# Check if decoding works\n",
    "print(\n",
    "    \"Encode-decode equivalence check: \"\n",
    "    + str(np.array_equiv(encoder.inverse_transform(y), y_cat))\n",
    ")"
   ]
  },
  {
   "cell_type": "code",
   "execution_count": 58,
   "id": "99a0f7a7",
   "metadata": {},
   "outputs": [
    {
     "name": "stdout",
     "output_type": "stream",
     "text": [
      "Data has been split.\n"
     ]
    },
    {
     "data": {
      "application/javascript": [
       "\n",
       "            setTimeout(function() {\n",
       "                var nbb_cell_id = 58;\n",
       "                var nbb_unformatted_code = \"max_seed_val = 2 ** 32 - 1\\n\\n# Split dataset into training set and test set\\nX_train, X_test, y_train, y_test = train_test_split(\\n    X, y, test_size=0.25, random_state=random.randrange(0, max_seed_val)\\n)\\nprint(\\\"Data has been split.\\\")\";\n",
       "                var nbb_formatted_code = \"max_seed_val = 2 ** 32 - 1\\n\\n# Split dataset into training set and test set\\nX_train, X_test, y_train, y_test = train_test_split(\\n    X, y, test_size=0.25, random_state=random.randrange(0, max_seed_val)\\n)\\nprint(\\\"Data has been split.\\\")\";\n",
       "                var nbb_cells = Jupyter.notebook.get_cells();\n",
       "                for (var i = 0; i < nbb_cells.length; ++i) {\n",
       "                    if (nbb_cells[i].input_prompt_number == nbb_cell_id) {\n",
       "                        if (nbb_cells[i].get_text() == nbb_unformatted_code) {\n",
       "                             nbb_cells[i].set_text(nbb_formatted_code);\n",
       "                        }\n",
       "                        break;\n",
       "                    }\n",
       "                }\n",
       "            }, 500);\n",
       "            "
      ],
      "text/plain": [
       "<IPython.core.display.Javascript object>"
      ]
     },
     "metadata": {},
     "output_type": "display_data"
    }
   ],
   "source": [
    "max_seed_val = 2 ** 32 - 1\n",
    "\n",
    "# Split dataset into training set and test set\n",
    "X_train, X_test, y_train, y_test = train_test_split(\n",
    "    X, y, test_size=0.25, random_state=random.randrange(0, max_seed_val)\n",
    ")\n",
    "print(\"Data has been split.\")"
   ]
  },
  {
   "cell_type": "code",
   "execution_count": 59,
   "id": "6583060e",
   "metadata": {},
   "outputs": [
    {
     "data": {
      "application/javascript": [
       "\n",
       "            setTimeout(function() {\n",
       "                var nbb_cell_id = 59;\n",
       "                var nbb_unformatted_code = \"# Create a Gaussian Classifier\\ngnb = MultinomialNB()\\n\\n# Train the model using the training sets\\ngnb.fit(X_train, y_train)\\n\\n# Predict the response for test dataset\\ny_pred = gnb.predict(X_test)\";\n",
       "                var nbb_formatted_code = \"# Create a Gaussian Classifier\\ngnb = MultinomialNB()\\n\\n# Train the model using the training sets\\ngnb.fit(X_train, y_train)\\n\\n# Predict the response for test dataset\\ny_pred = gnb.predict(X_test)\";\n",
       "                var nbb_cells = Jupyter.notebook.get_cells();\n",
       "                for (var i = 0; i < nbb_cells.length; ++i) {\n",
       "                    if (nbb_cells[i].input_prompt_number == nbb_cell_id) {\n",
       "                        if (nbb_cells[i].get_text() == nbb_unformatted_code) {\n",
       "                             nbb_cells[i].set_text(nbb_formatted_code);\n",
       "                        }\n",
       "                        break;\n",
       "                    }\n",
       "                }\n",
       "            }, 500);\n",
       "            "
      ],
      "text/plain": [
       "<IPython.core.display.Javascript object>"
      ]
     },
     "metadata": {},
     "output_type": "display_data"
    }
   ],
   "source": [
    "# Create a Gaussian Classifier\n",
    "gnb = MultinomialNB()\n",
    "\n",
    "# Train the model using the training sets\n",
    "gnb.fit(X_train, y_train)\n",
    "\n",
    "# Predict the response for test dataset\n",
    "y_pred = gnb.predict(X_test)"
   ]
  },
  {
   "cell_type": "code",
   "execution_count": 60,
   "id": "d835b50d",
   "metadata": {},
   "outputs": [
    {
     "name": "stdout",
     "output_type": "stream",
     "text": [
      "Accuracy: 0.6736111111111112\n"
     ]
    },
    {
     "data": {
      "application/javascript": [
       "\n",
       "            setTimeout(function() {\n",
       "                var nbb_cell_id = 60;\n",
       "                var nbb_unformatted_code = \"# Model Accuracy, how often is the classifier correct?\\nprint(\\\"Accuracy:\\\", metrics.accuracy_score(y_test, y_pred))\";\n",
       "                var nbb_formatted_code = \"# Model Accuracy, how often is the classifier correct?\\nprint(\\\"Accuracy:\\\", metrics.accuracy_score(y_test, y_pred))\";\n",
       "                var nbb_cells = Jupyter.notebook.get_cells();\n",
       "                for (var i = 0; i < nbb_cells.length; ++i) {\n",
       "                    if (nbb_cells[i].input_prompt_number == nbb_cell_id) {\n",
       "                        if (nbb_cells[i].get_text() == nbb_unformatted_code) {\n",
       "                             nbb_cells[i].set_text(nbb_formatted_code);\n",
       "                        }\n",
       "                        break;\n",
       "                    }\n",
       "                }\n",
       "            }, 500);\n",
       "            "
      ],
      "text/plain": [
       "<IPython.core.display.Javascript object>"
      ]
     },
     "metadata": {},
     "output_type": "display_data"
    }
   ],
   "source": [
    "# Model Accuracy, how often is the classifier correct?\n",
    "print(\"Accuracy:\", metrics.accuracy_score(y_test, y_pred))"
   ]
  },
  {
   "cell_type": "code",
   "execution_count": null,
   "id": "8b985758",
   "metadata": {},
   "outputs": [],
   "source": [
    "\"\"\"\n",
    "links:\n",
    "\n",
    "https://dev.to/codinghappinessweb/analysing-dataset-using-naive-bayes-classifier-3d7o\n",
    "https://towardsdatascience.com/15-tips-and-tricks-for-jupyter-notebook-that-will-ease-your-coding-experience-e469207ac95c\n",
    "https://towardsdatascience.com/guide-to-encoding-categorical-features-using-scikit-learn-for-machine-learning-5048997a5c79\n",
    "https://towardsdatascience.com/naive-bayes-classifier-how-to-successfully-use-it-in-python-ecf76a995069\n",
    "https://scikit-learn.org/stable/modules/naive_bayes.html#multinomial-naive-bayes\n",
    "\"\"\""
   ]
  }
 ],
 "metadata": {
  "kernelspec": {
   "display_name": "Python 3 (ipykernel)",
   "language": "python",
   "name": "python3"
  },
  "language_info": {
   "codemirror_mode": {
    "name": "ipython",
    "version": 3
   },
   "file_extension": ".py",
   "mimetype": "text/x-python",
   "name": "python",
   "nbconvert_exporter": "python",
   "pygments_lexer": "ipython3",
   "version": "3.9.7"
  }
 },
 "nbformat": 4,
 "nbformat_minor": 5
}
